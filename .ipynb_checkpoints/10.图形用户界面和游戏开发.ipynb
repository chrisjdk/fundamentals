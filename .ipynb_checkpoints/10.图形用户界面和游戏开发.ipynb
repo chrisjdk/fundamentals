{
 "cells": [
  {
   "cell_type": "markdown",
   "metadata": {
    "collapsed": true
   },
   "source": [
    "## 图形用户界面和游戏开发\n",
    "\n",
    "#### tkinter-based GUI\n",
    "\n",
    "The 5 necessary steps required by using tkinter to develop a simple GUI application.\n",
    "\n",
    "1. Import all the necessary stuff needed from the tkinter module.\n",
    "\n",
    "2. Create a top-class graph object to load the whole GUI application.\n",
    "\n",
    "3. Add GUI components to the top-class graph object.\n",
    "\n",
    "4. Using codes to assemble the usage of the whole components.\n",
    "\n",
    "5. Start the main loop.\n",
    "\n",
    "The below codes show how to use tkinter to develop a simple GUI application."
   ]
  },
  {
   "cell_type": "code",
   "execution_count": 2,
   "metadata": {},
   "outputs": [],
   "source": [
    "import tkinter\n",
    "import  tkinter.messagebox\n",
    "\n",
    "def main():\n",
    "    flag = True\n",
    "    \n",
    "    # modify the charaters on the label\n",
    "    def change_label_text():\n",
    "        nonlocal flag\n",
    "        flag = not flag\n",
    "        color, msg = ('red', 'Fuck U, greey old woman!')\\\n",
    "            if flag else('green', 'Go to hell!')\n",
    "        label.config(text=msg, fg=color)\n",
    "        \n",
    "    # to make sure that the user wanna close the window\n",
    "    def confirm_to_quit():\n",
    "        if tkinter.messagebox.askokcancel('Are you sure to quit?'):\n",
    "            top.quit()\n",
    "            \n",
    "    # create the top-class window\n",
    "    top = tkinter.Tk()\n",
    "    # set the size of the window\n",
    "    top.geometry('240x160')\n",
    "    # `\n",
    "    # create the window object and add it to the top-class window\n",
    "    label = tkinter.Label(top, text='Hello, Bitch!', font='Ariel -32', fg='red')\n",
    "    label.pack(expand=1)\n",
    "    # set a container for the bottom\n",
    "    panel = tkinter.Frame(top)\n",
    "    # create a bottom object to put it in a specific container, and use command parameter  to CALL Iit\n",
    "    button1 = tkinter.Button(panel, text='Modification', command=change_label_text)\n",
    "    button1.pack(side='left')\n",
    "    button2 = tkinter.Button(panel, text='Quit', command=confirm_to_quit)\n",
    "    button2.pack(side='right')\n",
    "    panel.pack(side='bottom')\n",
    "    # start the main loop\n",
    "    tkinter.mainloop()\n",
    "    \n",
    "if __name__  == '__main__':\n",
    "    main()\n",
    "\n"
   ]
  },
  {
   "cell_type": "markdown",
   "metadata": {},
   "source": [
    "GUI应用通常是事件驱动式的，之所以要进入主事件循环就是要监听鼠标、键盘等各种事件的发生并执行对应的代码对事件进行处理，因为事件会持续的发生，所以需要这样的一个循环一直运行着等待下一个事件的发生。\n",
    "\n",
    "Tk为控件的摆放提供了三种布局管理器，通过布局管理器可以对控件进行定位，这三种布局管理器分别是：Placer（开发者提供控件的大小和摆放位置）、Packer（自动将控件填充到合适的位置）和Grid（基于网格坐标来摆放控件）\n",
    "\n",
    "#### Use Pygame for the game development\n",
    "\n",
    "Pygame is specifically designed for the multi-media development, including the support for images, sounds, videos, events, collisions. Pygame is designed on the basis of SDL, which is a cross-platfrom library written by C language and us widely used in the development of game, simulator etc.\n",
    "\n",
    "下面我们来完成一个简单的小游戏，游戏的名字叫“大球吃小球”，当然完成这个游戏并不是重点，学会使用Pygame也不是重点，最重要的我们要在这个过程中体会如何使用前面讲解的面向对象程序设计，学会用这种编程思想去解决现实中的问题。\n",
    "\n",
    "**Create the game window**"
   ]
  },
  {
   "cell_type": "code",
   "execution_count": 2,
   "metadata": {},
   "outputs": [],
   "source": [
    "import pygame\n",
    "\n",
    "def main():\n",
    "    # initialize the imported pygame module\n",
    "    pygame.init()\n",
    "    # Initialize the window and set its dimensions\n",
    "    screen = pygame.display.set_mode((800, 600))\n",
    "    # set the title for the current window\n",
    "    pygame.display.set_caption('Big Balls Eat Small Balls')\n",
    "    running = True\n",
    "    # start an event for the loop processing\n",
    "    while running:\n",
    "        # get the event info from the message sequence and process it\n",
    "        for event in pygame.event.get():\n",
    "            if event.type == pygame.QUIT:\n",
    "                running = False\n",
    "                \n",
    "if __name__  == '__main__':\n",
    "    main()\n",
    "\n"
   ]
  },
  {
   "cell_type": "markdown",
   "metadata": {},
   "source": [
    "#### Drawing in the window\n",
    "\n",
    "We can draw images via the `draw` module of pygame, the supported images include: line, rectangle, circle, arc and so forth. The coordinates are defaultedly set to be the original point (0, 0)"
   ]
  },
  {
   "cell_type": "code",
   "execution_count": 1,
   "metadata": {},
   "outputs": [
    {
     "name": "stdout",
     "output_type": "stream",
     "text": [
      "pygame 1.9.6\n",
      "Hello from the pygame community. https://www.pygame.org/contribute.html\n"
     ]
    }
   ],
   "source": [
    "import pygame\n",
    "\n",
    "def main():\n",
    "    # Initialize the imported pygame module\n",
    "    pygame.init()\n",
    "    # Initialize the window for showing and set the size\n",
    "    screen = pygame.display.set_mode((800, 600))\n",
    "    # Set the title of the window\n",
    "    pygame.display.set_caption('Big Balls Eat Small Balls')\n",
    "    # Set the background color of the window (a tuple of R, G, B)\n",
    "    screen.fill((242, 242, 242))\n",
    "    # Draw a circle (The parameters include screen, color, the position of the center of the circle, parameter, 0 represents fill the circle)\n",
    "    pygame.draw.circle(screen,(255, 0, 0), (100, 100), 30, 0)\n",
    "    # Refresh the current window\n",
    "    pygame.display.flip()\n",
    "    running = True\n",
    "    # start a mainloop to process a sudden event\n",
    "    while running:\n",
    "        for event in pygame.event.get():\n",
    "            if event.type == pygame.QUIT:\n",
    "                running = False\n",
    "                \n",
    "if __name__  == '__main__':\n",
    "    main()\n",
    "\n"
   ]
  },
  {
   "cell_type": "markdown",
   "metadata": {},
   "source": [
    "#### Load images\n",
    "\n",
    "If images are needed to be loaded onto the screen directly. The `image` module in pygame can help load images with the usage of `blit` method from the window object which is previously obtained. The codes are shown below:"
   ]
  },
  {
   "cell_type": "code",
   "execution_count": null,
   "metadata": {},
   "outputs": [],
   "source": [
    "import pygame\n",
    "\n",
    "def main():\n",
    "    # Initialize the imported pygame module\n",
    "    pygame.init()\n",
    "    # Initialize the window and its dimensions\n",
    "    screen = pygame.display.set_mode((800, 600))\n",
    "    #  Set the title for the current window\n",
    "    pygame.display.set_caption('Big Balls Eat Small Balls')\n",
    "    # Set the background color of the window\n",
    "    screen.fill((255, 255, 255))\n",
    "    # Load the image via the file name called\n",
    "    ball_image = pygame.image.load('./ball.png')\n",
    "    # Apply colors to the loaded image\n",
    "    screen.blit(ball_image, (50, 50))\n",
    "    # Refresh the current window (to show the current window)\n",
    "    pygame.display.flip()\n",
    "    running = True\n",
    "    # Start a main loop to process sudden events\n",
    "    while running:\n",
    "        for event in pygame.event.get():\n",
    "            if event.type == pygame.QUIT:\n",
    "                running = False\n",
    "                \n",
    "if __name__  == '__main__':\n",
    "    main()\n",
    "\n"
   ]
  },
  {
   "cell_type": "markdown",
   "metadata": {},
   "source": [
    "#### Realize the animation effect\n",
    "\n",
    "事实上要实现动画效果，本身的原理也非常简单，就是将不连续的图片连续的播放，只要每秒钟达到了一定的帧数，那么就可以做出比较流畅的动画效果。如果要让上面代码中的小球动起来，可以将小球的位置用变量来表示，并在循环中修改小球的位置再刷新整个窗口即可。"
   ]
  },
  {
   "cell_type": "code",
   "execution_count": null,
   "metadata": {},
   "outputs": [],
   "source": [
    "import pygame\n",
    "\n",
    "def main():\n",
    "    pygame.init()\n",
    "    screen = pygame.display.set_mode((800, 600))\n",
    "    pygame.display.set_caption('Big Balls Eat Small Balls')\n",
    "    # Define a variable to represent the position of small balls shown on the screen\n",
    "    x, y = 50, 50\n",
    "    running = True\n",
    "    while running:\n",
    "        for event in pygame.event.get():\n",
    "            if event.type == pygame.QUIT:\n",
    "                running = False\n",
    "                \n",
    "        screen.fill((255, 255, 255))\n",
    "        pygame.draw.circle(screen, (255, 0, 0), (x, y), 30, 0)\n",
    "        pygame.display.flip()\n",
    "        # Change the position of the small balls and refresh the window every 50ms\n",
    "        pygame.time.display(50)\n",
    "        x, y = x + 5, y + 5\n",
    "        \n",
    "if __name__  == '__main__':\n",
    "    main()\n",
    "\n",
    "\n"
   ]
  },
  {
   "cell_type": "markdown",
   "metadata": {},
   "source": [
    "#### 碰撞检测\n",
    "\n",
    "通常一个游戏中会有很多对象出现，而这些对象之间的“碰撞”在所难免，比如炮弹击中了飞机、箱子撞到了地面等。碰撞检测在绝大多数的游戏中都是一个必须得处理的至关重要的问题，`pygame`的`sprite`（动画精灵）模块就提供了对碰撞检测的支持，这里我们暂时不介绍sprite模块提供的功能，因为要检测两个小球有没有碰撞其实非常简单，只需要检查球心的距离有没有小于两个球的半径之和。为了制造出更多的小球，我们可以通过对鼠标事件的处理，在点击鼠标的位置创建颜色、大小和移动速度都随机的小球，当然要做到这一点，我们可以把之前学习到的面向对象的知识应用起来。"
   ]
  },
  {
   "cell_type": "code",
   "execution_count": 1,
   "metadata": {},
   "outputs": [
    {
     "name": "stdout",
     "output_type": "stream",
     "text": [
      "pygame 1.9.6\n",
      "Hello from the pygame community. https://www.pygame.org/contribute.html\n"
     ]
    }
   ],
   "source": [
    "from enum import Enum, unique\n",
    "from math import sqrt\n",
    "from random import randint\n",
    "\n",
    "import pygame\n",
    "\n",
    "@unique\n",
    "class Color(Enum):\n",
    "    RED = (255, 0, 0)\n",
    "    GREEN = (0, 255, 0)\n",
    "    BLUE = (0, 0, 255)\n",
    "    BLACK = (0, 0, 0)\n",
    "    WHITE = (255, 255, 255)\n",
    "    GRAY = (242, 242, 242)\n",
    "    \n",
    "    @staticmethod\n",
    "    def random_color():\n",
    "        \"\"\"To get random colors\"\"\"\n",
    "        \n",
    "        r = randint(0, 255)\n",
    "        g = randint(0, 255)\n",
    "        b = randint(0, 255)\n",
    "        return (r, g, b)\n",
    "    \n",
    "class Ball(object):\n",
    "    def __init__(self, x, y, radius, sx, sy, color=Color.RED):\n",
    "        self.x = x\n",
    "        self.y = y\n",
    "        self.radius = radius\n",
    "        self.sx = sx\n",
    "        self.sy = sy\n",
    "        self.color = color\n",
    "        self.alive = True\n",
    "        \n",
    "    def move(self, screen):\n",
    "        self.x += self.sx\n",
    "        self.y += self.sy\n",
    "        if self.x - self.radius <= 0 or self.x + self.radius >= screen.get_width():\n",
    "            self.sx = -self.sx\n",
    "        if self.y - self.radius <= 0 or self.y + self.radius >= screen.get_height():\n",
    "            self.sy = -self.sy\n",
    "            \n",
    "    def eat(self, other):\n",
    "        if self.alive and other.alive and self != other:\n",
    "            dx, dy = self.x - other.x, self.y - other.y\n",
    "            distance = sqrt(dx**2 + dy**2)\n",
    "            if distance < self.radius + other.radius and self.radius > other.radius:\n",
    "                other.alive = False\n",
    "                self.radius = self.radius + int(other.radius * 0.146)\n",
    "                \n",
    "    def draw(self, screen):\n",
    "        pygame.draw.circle(screen, self.color, (self.x, self.y), self.radius, 0)"
   ]
  },
  {
   "cell_type": "markdown",
   "metadata": {},
   "source": [
    "#### Process an Event\n",
    "\n",
    "可以在事件循环中对鼠标事件进行处理，通过事件对象的type属性可以判定事件类型，再通过pos属性就可以获得鼠标点击的位置。如果要处理键盘事件也是在这个地方，做法与处理鼠标事件类似。"
   ]
  },
  {
   "cell_type": "code",
   "execution_count": 2,
   "metadata": {},
   "outputs": [],
   "source": [
    "def main():\n",
    "    # Define the container for all the balls\n",
    "    balls = []\n",
    "    # Initialize the imported pygame module\n",
    "    pygame.init()\n",
    "    # Initialize the window and its dimensions\n",
    "    screen = pygame.display.set_mode((800, 600))\n",
    "    # Set the title for the current window\n",
    "    pygame.display.set_caption('Big Balls Eat Small Balls')\n",
    "    running = True\n",
    "    # Start a loop for sudden events\n",
    "    while running:\n",
    "        for event in pygame.event.get():\n",
    "            if event.type == pygame.QUIT:\n",
    "                running = False\n",
    "            # Codes for processing the event\n",
    "            if event.type == pygame.MOUSEBUTTONDOWN and event.button == 1:\n",
    "                # Get the position where the mouse clicks\n",
    "                x, y = event.pos\n",
    "                radius = randint(10, 100)\n",
    "                sx, sy = randint(-10, 10), randint(-10, 10)\n",
    "                color = Color.random_color()\n",
    "                # Create a ball where the mouse clicks( random size, speed, and color)\n",
    "                ball = Ball(x, y, radius, sx, sy, color)\n",
    "                # Add the ball to the list container\n",
    "                balls.append(ball)\n",
    "        screen.fill((255, 255, 255))\n",
    "        # Take out a ball from the container, draw if not eaten, or remove otherwise\n",
    "        for ball in balls:\n",
    "            if ball.alive:\n",
    "                ball.draw(screen)\n",
    "            else:\n",
    "                balls.remove(ball)\n",
    "        pygame.display.flip()\n",
    "        # Change the ball's position and refresh the window\n",
    "        pygame.time.delay(50)\n",
    "        for ball in balls:\n",
    "            ball.move(screen)\n",
    "            # Check if the ball has been eaten by the other one\n",
    "            for other in balls:\n",
    "                ball.eat(other)\n",
    "                \n",
    "if __name__  == '__main__':\n",
    "    main()\n",
    "\n"
   ]
  },
  {
   "cell_type": "markdown",
   "metadata": {},
   "source": [
    "上面的两段代码合在一起，我们就完成了“大球吃小球”的游戏.其实上面的代码中还有很多值得改进的地方，比如刷新窗口以及让球移动起来的代码并不应该放在事件循环中，等学习了多线程的知识后，用一个后台线程来处理这些事可能是更好的选择。如果希望获得更好的用户体验，我们还可以在游戏中加入背景音乐以及在球与球发生碰撞时播放音效，利用pygame的mixer和music模块，我们可以很容易的做到这一点，大家可以自行了解这方面的知识。事实上，想了解更多的关于pygame的知识，最好的教程是[pygame](https://www.pygame.org/news)的官方网站，如果英语没毛病就可以赶紧去看看啦。 如果想开发3D游戏，pygame就显得力不从心了，对3D游戏开发如果有兴趣的读者不妨看看[Panda3D](https://www.panda3d.org)。"
   ]
  },
  {
   "cell_type": "code",
   "execution_count": null,
   "metadata": {},
   "outputs": [],
   "source": []
  }
 ],
 "metadata": {
  "kernelspec": {
   "display_name": "Python 3",
   "language": "python",
   "name": "python3"
  },
  "language_info": {
   "codemirror_mode": {
    "name": "ipython",
    "version": 3
   },
   "file_extension": ".py",
   "mimetype": "text/x-python",
   "name": "python",
   "nbconvert_exporter": "python",
   "pygments_lexer": "ipython3",
   "version": "3.7.4"
  }
 },
 "nbformat": 4,
 "nbformat_minor": 1
}
