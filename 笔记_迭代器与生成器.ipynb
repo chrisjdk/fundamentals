{
  "cells": [
    {
      "cell_type": "markdown",
      "source": [
        "#### 笔记： 迭代器与生成器\n",
        "\n",
        "迭代是访问集合元素的一种方式。\n",
        "\n",
        "迭代器是一个可以记住遍历的位置的对象\n",
        "\n",
        "迭代器对象从集合的第一个元素开始访问，知道所有的元素被访问完结束。迭代器只能往前不会往后退。\n",
        "\n",
        "迭代器有两个基本的方法：`iter()`和`next()`.\n",
        "\n",
        "字符串，列表或元组都可用于创建迭代器。"
      ],
      "metadata": {}
    },
    {
      "cell_type": "code",
      "source": [
        "# 迭代器对象可以使用常规for语句进行遍历：\n",
        "\n",
        "list = [1, 2, 3, 4]\n",
        "it = iter(list) #创建迭代器对象\n",
        "for x in it:\n",
        "  print(x, end=' ')"
      ],
      "outputs": [
        {
          "output_type": "stream",
          "name": "stdout",
          "text": [
            "1 2 3 4 "
          ]
        }
      ],
      "execution_count": 1,
      "metadata": {
        "collapsed": false,
        "outputHidden": false,
        "inputHidden": false
      }
    },
    {
      "cell_type": "code",
      "source": [
        "# 也可使用next()函数\n",
        "\n",
        "import sys # 引入sys模块\n",
        "\n",
        "list = [1, 2, 3, 4]\n",
        "it = iter(list)\n",
        "\n",
        "while True:\n",
        "  try:\n",
        "    print(next(it))\n",
        "  except StopIteration:\n",
        "    sys.exit()"
      ],
      "outputs": [
        {
          "output_type": "stream",
          "name": "stdout",
          "text": [
            "1\n",
            "2\n",
            "3\n",
            "4\n"
          ]
        },
        {
          "output_type": "error",
          "ename": "SystemExit",
          "evalue": "",
          "traceback": [
            "An exception has occurred, use %tb to see the full traceback.\n",
            "\u001b[0;31mSystemExit\u001b[0m\n"
          ]
        },
        {
          "output_type": "stream",
          "name": "stderr",
          "text": [
            "/usr/local/lib/python3.7/site-packages/IPython/core/interactiveshell.py:3333: UserWarning: To exit: use 'exit', 'quit', or Ctrl-D.\n",
            "  warn(\"To exit: use 'exit', 'quit', or Ctrl-D.\", stacklevel=1)\n"
          ]
        }
      ],
      "execution_count": 2,
      "metadata": {
        "collapsed": false,
        "outputHidden": false,
        "inputHidden": false
      }
    },
    {
      "cell_type": "markdown",
      "source": [
        "#### 创建一个迭代器\n",
        "\n",
        "[面向对象](https://www.runoob.com/python3/python3-class.html)\n",
        "\n",
        "把一个类作为一个迭代器使用需要在类中实现两个方法`__iter__()`和`__next__()`.\n",
        "\n",
        "`__iter__()` 方法返回一个特殊的迭代器对象， 这个迭代器对象实现了 `__next__()` 方法并通过 `StopIteration` 异常标识迭代的完成。\n",
        "\n",
        "`__next__()`方法会返回下一个迭代器对象。\n",
        "\n",
        "eg: 创建一个返回数字的迭代器，初始值为1，逐步递增1："
      ],
      "metadata": {}
    },
    {
      "cell_type": "code",
      "source": [
        "class MyNumbers:\n",
        "  def __iter__(self):\n",
        "    self.a = 1\n",
        "    return self\n",
        "  \n",
        "  def __next__(self):\n",
        "    x = self.a\n",
        "    self.a += 1\n",
        "    return x\n",
        "  \n",
        "myclass = MyNumbers()\n",
        "myiter = iter(myclass)\n",
        "\n",
        "print(next(myclass))\n",
        "print(next(myclass))\n",
        "print(next(myclass))\n",
        "print(next(myclass))"
      ],
      "outputs": [
        {
          "output_type": "stream",
          "name": "stdout",
          "text": [
            "1\n",
            "2\n",
            "3\n",
            "4\n"
          ]
        }
      ],
      "execution_count": 4,
      "metadata": {
        "collapsed": false,
        "outputHidden": false,
        "inputHidden": false
      }
    },
    {
      "cell_type": "markdown",
      "source": [
        "#### `StopIteration`\n",
        "\n",
        "`StopIteration` 异常用于标识迭代的完成，防止出现无限循环的情况，在 `__next__()` 方法中我们可以设置在完成指定循环次数后触发 `StopIteration` 异常来结束迭代。\n",
        "\n",
        "eg: 在 20 次迭代后停止执行："
      ],
      "metadata": {}
    },
    {
      "cell_type": "code",
      "source": [
        "class MyNumbers:\n",
        "  def __iter__(self):\n",
        "    self.a = 1\n",
        "    return self\n",
        "  \n",
        "  def __next__(self):\n",
        "    if self.a <= 20:\n",
        "      x = self.a\n",
        "      self.a += 1\n",
        "      return x\n",
        "    else:\n",
        "      raise StopIteration\n",
        "      \n",
        "myclass = MyNumbers()\n",
        "myiter = iter(myclass)\n",
        "\n",
        "for x in myiter:\n",
        "  print(x)"
      ],
      "outputs": [
        {
          "output_type": "stream",
          "name": "stdout",
          "text": [
            "1\n",
            "2\n",
            "3\n",
            "4\n",
            "5\n",
            "6\n",
            "7\n",
            "8\n",
            "9\n",
            "10\n",
            "11\n",
            "12\n",
            "13\n",
            "14\n",
            "15\n",
            "16\n",
            "17\n",
            "18\n",
            "19\n",
            "20\n"
          ]
        }
      ],
      "execution_count": 5,
      "metadata": {
        "collapsed": false,
        "outputHidden": false,
        "inputHidden": false
      }
    },
    {
      "cell_type": "markdown",
      "source": [
        "## 生成器\n",
        "\n",
        "在 Python 中，使用了 `yield` 的函数被称为生成器（generator）。\n",
        "\n",
        "跟普通函数不同的是，生成器是一个返回迭代器的函数，只能用于迭代操作，更简单点理解生成器就是一个迭代器。\n",
        "\n",
        "在调用生成器运行的过程中，每次遇到 **`yield` 时函数会暂停并保存当前所有的运行信息，返回 `yield` 的值, 并在下一次执行 `next()` 方法时从当前位置继续运行**。\n",
        "\n",
        "调用一个生成器函数，返回的是一个迭代器对象。\n",
        "\n",
        "以下实例使用 `yield` 实现斐波那契数列："
      ],
      "metadata": {}
    },
    {
      "cell_type": "code",
      "source": [
        "import sys\n",
        "\n",
        "def fib(n):\n",
        "  a, b, counter = 0, 1, 0\n",
        "  while True:\n",
        "    if (counter > n):\n",
        "      return\n",
        "    yield a\n",
        "    a, b = b, a+b\n",
        "    counter += 1\n",
        "    \n",
        "f = fib(10)\n",
        "\n",
        "while True:\n",
        "  try:\n",
        "    print(next(f), end = ' ')\n",
        "  except StopIteration:\n",
        "    sys.exit()\n"
      ],
      "outputs": [
        {
          "output_type": "stream",
          "name": "stdout",
          "text": [
            "0 1 1 2 3 5 8 13 21 34 55 "
          ]
        },
        {
          "output_type": "error",
          "ename": "SystemExit",
          "evalue": "",
          "traceback": [
            "An exception has occurred, use %tb to see the full traceback.\n",
            "\u001b[0;31mSystemExit\u001b[0m\n"
          ]
        },
        {
          "output_type": "stream",
          "name": "stderr",
          "text": [
            "/usr/local/lib/python3.7/site-packages/IPython/core/interactiveshell.py:3333: UserWarning: To exit: use 'exit', 'quit', or Ctrl-D.\n",
            "  warn(\"To exit: use 'exit', 'quit', or Ctrl-D.\", stacklevel=1)\n"
          ]
        }
      ],
      "execution_count": 6,
      "metadata": {
        "collapsed": false,
        "outputHidden": false,
        "inputHidden": false
      }
    },
    {
      "cell_type": "markdown",
      "source": [
        "## 补充说明\n",
        "\n",
        "#### 1. 关于`yield`:\n",
        "\n",
        "比较有`yield`和没有`yield`的情况进一步理解生成器："
      ],
      "metadata": {}
    },
    {
      "cell_type": "code",
      "source": [
        "# 使用yield\n",
        "\n",
        "import sys\n",
        "\n",
        "def fib(n, w=0):\n",
        "  a, b, counter = 0, 1, 0\n",
        "  while True:\n",
        "    if (counter > n):\n",
        "      return\n",
        "    yield a\n",
        "    a, b = b, a+b\n",
        "    print('%d, %d' % (a,b))\n",
        "    counter += 1\n",
        "    \n",
        "f = fib(10)\n",
        "\n",
        "while True:\n",
        "  try:\n",
        "    print(next(f), end = ' ')\n",
        "  except:\n",
        "      sys.exit()"
      ],
      "outputs": [
        {
          "output_type": "stream",
          "name": "stdout",
          "text": [
            "0 1, 1\n",
            "1 1, 2\n",
            "1 2, 3\n",
            "2 3, 5\n",
            "3 5, 8\n",
            "5 8, 13\n",
            "8 13, 21\n",
            "13 21, 34\n",
            "21 34, 55\n",
            "34 55, 89\n",
            "55 89, 144\n"
          ]
        },
        {
          "output_type": "error",
          "ename": "SystemExit",
          "evalue": "",
          "traceback": [
            "An exception has occurred, use %tb to see the full traceback.\n",
            "\u001b[0;31mSystemExit\u001b[0m\n"
          ]
        },
        {
          "output_type": "stream",
          "name": "stderr",
          "text": [
            "/usr/local/lib/python3.7/site-packages/IPython/core/interactiveshell.py:3333: UserWarning: To exit: use 'exit', 'quit', or Ctrl-D.\n",
            "  warn(\"To exit: use 'exit', 'quit', or Ctrl-D.\", stacklevel=1)\n"
          ]
        }
      ],
      "execution_count": 8,
      "metadata": {
        "collapsed": false,
        "outputHidden": false,
        "inputHidden": false
      }
    },
    {
      "cell_type": "code",
      "source": [
        "# 不使用yield\n",
        "\n",
        "import sys\n",
        "\n",
        "def fib(n, w=0):\n",
        "  a, b, counter = 0, 1, 0\n",
        "  while True:\n",
        "    if (counter > n):\n",
        "      return\n",
        "    #yield a\n",
        "    a, b = b, a+b\n",
        "    print('%d, %d' % (a,b))\n",
        "    counter += 1\n",
        "    \n",
        "f = fib(10)\n",
        "\n",
        "while True:\n",
        "  try:\n",
        "    print(next(f), end = ' ')\n",
        "  except:\n",
        "      sys.exit()"
      ],
      "outputs": [
        {
          "output_type": "stream",
          "name": "stdout",
          "text": [
            "1, 1\n",
            "1, 2\n",
            "2, 3\n",
            "3, 5\n",
            "5, 8\n",
            "8, 13\n",
            "13, 21\n",
            "21, 34\n",
            "34, 55\n",
            "55, 89\n",
            "89, 144\n"
          ]
        },
        {
          "output_type": "error",
          "ename": "SystemExit",
          "evalue": "",
          "traceback": [
            "An exception has occurred, use %tb to see the full traceback.\n",
            "\u001b[0;31mSystemExit\u001b[0m\n"
          ]
        },
        {
          "output_type": "stream",
          "name": "stderr",
          "text": [
            "/usr/local/lib/python3.7/site-packages/IPython/core/interactiveshell.py:3333: UserWarning: To exit: use 'exit', 'quit', or Ctrl-D.\n",
            "  warn(\"To exit: use 'exit', 'quit', or Ctrl-D.\", stacklevel=1)\n"
          ]
        }
      ],
      "execution_count": 9,
      "metadata": {
        "collapsed": false,
        "outputHidden": false,
        "inputHidden": false
      }
    },
    {
      "cell_type": "markdown",
      "source": [
        "第二种没有`yield`时，函数只是简单执行，没有返回迭代器`f`。这里的迭代器可以用生成`l`列表来理解一下："
      ],
      "metadata": {}
    },
    {
      "cell_type": "code",
      "source": [
        "l = [i for i in range(0, 15)]\n",
        "print(l)"
      ],
      "outputs": [
        {
          "output_type": "stream",
          "name": "stdout",
          "text": [
            "[0, 1, 2, 3, 4, 5, 6, 7, 8, 9, 10, 11, 12, 13, 14]\n"
          ]
        }
      ],
      "execution_count": 10,
      "metadata": {
        "collapsed": false,
        "outputHidden": false,
        "inputHidden": false
      }
    },
    {
      "cell_type": "code",
      "source": [
        "m = (i for i in range(15))\n",
        "print(m)"
      ],
      "outputs": [
        {
          "output_type": "stream",
          "name": "stdout",
          "text": [
            "<generator object <genexpr> at 0x1121ab9a8>\n"
          ]
        }
      ],
      "execution_count": 11,
      "metadata": {
        "collapsed": false,
        "outputHidden": false,
        "inputHidden": false
      }
    },
    {
      "cell_type": "code",
      "source": [
        "for g in m:\n",
        "  print(g, end = ' ')\n",
        "  # 这里的m就像上面的f一样，是迭代器。"
      ],
      "outputs": [
        {
          "output_type": "stream",
          "name": "stdout",
          "text": [
            "0 1 2 3 4 5 6 7 8 9 10 11 12 13 14 "
          ]
        }
      ],
      "execution_count": 12,
      "metadata": {
        "collapsed": false,
        "outputHidden": false,
        "inputHidden": false
      }
    },
    {
      "cell_type": "markdown",
      "source": [
        "#### 2. 什么情况下需要使用 `yield`？\n",
        "\n",
        "一个函数 `f`，`f` 返回一个 `list`，这个 `list` 是动态计算出来的（不管是数学上的计算还是逻辑上的读取格式化），并且这个 `list` 会很大（无论是固定很大还是随着输入参数的增大而增大），这个时候，我们希望每次调用这个函数并使用迭代器进行循环的时候一个一个的得到每个 `list` 元素而不是直接得到一个完整的 `list` 来节省内存，这个时候 `yield` 就很有用。\n",
        "\n",
        "以斐波那契函数为例，我们一般希望从 `n` 返回一个 `n` 个数的 `list`："
      ],
      "metadata": {}
    },
    {
      "cell_type": "code",
      "source": [
        "def fab(num):\n",
        "  n, a, b = 0, 0, 1\n",
        "  L = []\n",
        "  while n < num:\n",
        "    L.append(b)\n",
        "    a, b = b, a + b\n",
        "    n += 1\n",
        "  return L  "
      ],
      "outputs": [],
      "execution_count": null,
      "metadata": {
        "collapsed": false,
        "outputHidden": false,
        "inputHidden": false
      }
    },
    {
      "cell_type": "markdown",
      "source": [
        "上面那个 `fab` 函数从参数 `num` 返回一个有 `num` 个元素的 `list`，当这个 `num` 很大的时候，会非常的占用内存。\n",
        "一般我们使用的时候都是这个样子的，比如："
      ],
      "metadata": {}
    },
    {
      "cell_type": "code",
      "source": [
        "f = iter(fab(1000))\n",
        "while True:\n",
        "  try:\n",
        "    print(next(f), end=' ')\n",
        "  except StopIteration:\n",
        "    sys.exit()"
      ],
      "outputs": [],
      "execution_count": null,
      "metadata": {
        "collapsed": false,
        "outputHidden": false,
        "inputHidden": false
      }
    },
    {
      "cell_type": "markdown",
      "source": [
        "这样我们实际上是先生成了一个 1000 个元素的 `list:f`，然后我们再去使用这个 `f`。\n",
        "\n",
        "现在，我们换一个方法：\n",
        "因为我们实际使用的是 `list` 的遍历，也就是 `list` 的迭代器。那么我们可以让这个函数 `fab` 每次只返回一个迭代器——一个计算结果，而不是一个完整的 `list`："
      ],
      "metadata": {}
    },
    {
      "cell_type": "code",
      "source": [
        "def fab(num):\n",
        "  n, a, b = 0, 0, 1\n",
        "  while n < num:\n",
        "    yield b\n",
        "    a, b = b, a + b\n",
        "    n += 1\n",
        "    \n",
        "for x in fab(100):\n",
        "  print(x)"
      ],
      "outputs": [],
      "execution_count": null,
      "metadata": {
        "collapsed": false,
        "outputHidden": false,
        "inputHidden": false
      }
    },
    {
      "cell_type": "markdown",
      "source": [
        "我们每次调用`fab`函数或者 `next` 函数之类的，实际上的运行方式是每次的调用都在 `yield` 处中断并返回一个结果，然后再次调用的时候再恢复中断继续运行。"
      ],
      "metadata": {}
    }
  ],
  "metadata": {
    "kernel_info": {
      "name": "python3"
    },
    "language_info": {
      "name": "python",
      "version": "3.7.3",
      "mimetype": "text/x-python",
      "codemirror_mode": {
        "name": "ipython",
        "version": 3
      },
      "pygments_lexer": "ipython3",
      "nbconvert_exporter": "python",
      "file_extension": ".py"
    },
    "kernelspec": {
      "name": "python3",
      "language": "python",
      "display_name": "Python 3"
    },
    "nteract": {
      "version": "0.14.3"
    }
  },
  "nbformat": 4,
  "nbformat_minor": 0
}