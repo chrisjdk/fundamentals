{
 "cells": [
  {
   "cell_type": "markdown",
   "metadata": {},
   "source": [
    "#### Define a function"
   ]
  },
  {
   "cell_type": "code",
   "execution_count": 1,
   "metadata": {
    "inputHidden": false,
    "outputHidden": false
   },
   "outputs": [
    {
     "name": "stdout",
     "output_type": "stream",
     "text": [
      "m= 8\n",
      "n = 3\n",
      "56\n"
     ]
    }
   ],
   "source": [
    "# define a function for the calculation of factorial\n",
    "def factorial(m):\n",
    "  fm = 1\n",
    "  for i in range(1, m+1):\n",
    "    fm *= i\n",
    "  return fm\n",
    "\n",
    "m = int(input('m= '))\n",
    "n = int(input('n = '))\n",
    "\n",
    "answer = factorial(m) // factorial(n) // factorial(m-n)\n",
    "print(answer)"
   ]
  },
  {
   "cell_type": "markdown",
   "metadata": {},
   "source": [
    "要写出高质量的代码首先要解决的就是重复代码的问题。对于上面的代码来说，我们可以将计算阶乘的功能封装到一个称之为“函数”的功能模块中，在需要计算阶乘的地方，我们只需要“调用”这个“函数”就可以了。"
   ]
  },
  {
   "cell_type": "markdown",
   "metadata": {},
   "source": [
    "#### 函数的参数\n",
    "\n",
    "函数是绝大多数编程语言中都支持的一个代码的“构建块”，但是Python中的函数与其他语言中的函数还是有很多不太相同的地方，其中一个显著的区别就是Python对函数参数的处理。在Python中，函数的参数可以有默认值，也支持使用可变参数，所以Python并不需要像其他语言一样支持函数的重载，因为我们在定义一个函数的时候可以让它有多种不同的使用方式，"
   ]
  },
  {
   "cell_type": "code",
   "execution_count": 2,
   "metadata": {},
   "outputs": [
    {
     "name": "stdout",
     "output_type": "stream",
     "text": [
      "4\n",
      "10\n",
      "0\n",
      "1\n",
      "3\n",
      "6\n",
      "350\n"
     ]
    }
   ],
   "source": [
    "from random import randint\n",
    "\n",
    "def roll_dice(n=2):\n",
    "    \"\"\"\n",
    "    :param n: number of dice\n",
    "    :return: sum of all the dices\n",
    "    \"\"\"\n",
    "    total = 0\n",
    "    for _ in range(n):\n",
    "        total += randint(1, 6)\n",
    "    return total\n",
    "\n",
    "def add(a=0, b=0, c=0):\n",
    "    return a + b + c\n",
    "\n",
    "# 如果没有指定参数那么使用默认值摇两颗色子\n",
    "print(roll_dice())\n",
    "\n",
    "# 摇三颗色子\n",
    "print(roll_dice(3))\n",
    "print(add())\n",
    "print(add(1))\n",
    "print(add(1, 2))\n",
    "print(add(1, 2, 3))\n",
    "\n",
    "# 传递参数时可以不按照设定的顺序进行传递\n",
    "print(add(c=50, a=100, b=200))"
   ]
  },
  {
   "cell_type": "markdown",
   "metadata": {},
   "source": [
    "在不确定参数个数的时候，我们可以使用可变参数，代码如下所示。"
   ]
  },
  {
   "cell_type": "code",
   "execution_count": 3,
   "metadata": {},
   "outputs": [
    {
     "name": "stdout",
     "output_type": "stream",
     "text": [
      "0\n",
      "1\n",
      "6\n",
      "25\n"
     ]
    }
   ],
   "source": [
    "# 在参数名前面的*表示args是一个可变参数\n",
    "# 即在调用add函数时可以传入0个或多个参数\n",
    "def add(*args):\n",
    "    total = 0\n",
    "    for val in args:\n",
    "        total += val\n",
    "    return total\n",
    "\n",
    "print(add())\n",
    "print(add(1))\n",
    "print(add(1, 2, 3))\n",
    "print(add(1, 3, 5, 7, 9))"
   ]
  },
  {
   "cell_type": "markdown",
   "metadata": {},
   "source": [
    "#### 用模块管理函数\n",
    "\n",
    "对于任何一种编程语言来说，给变量、函数这样的标识符起名字都是一个让人头疼的问题，因为我们会遇到命名冲突这种尴尬的情况。最简单的场景就是在同一个.py文件中定义了两个同名函数，由于Python没有函数重载的概念，那么后面的定义会覆盖之前的定义，也就意味着两个函数同名函数实际上只有一个是存在的.\n",
    "\n",
    "Python中每个文件就代表了一个模块（module），我们在不同的模块中可以有同名的函数，在使用函数的时候我们通过import关键字导入指定的模块就可以区分到底要使用的是哪个模块中的foo函数，代码如下所示。"
   ]
  },
  {
   "cell_type": "code",
   "execution_count": null,
   "metadata": {},
   "outputs": [],
   "source": [
    "# module1.py\n",
    "\n",
    "def foo():\n",
    "    print(\"hello, world!\")"
   ]
  },
  {
   "cell_type": "code",
   "execution_count": null,
   "metadata": {},
   "outputs": [],
   "source": [
    "#module2.py\n",
    "def foo():\n",
    "    print('goodbye, world!')"
   ]
  },
  {
   "cell_type": "code",
   "execution_count": null,
   "metadata": {},
   "outputs": [],
   "source": [
    "# test.py\n",
    "\n",
    "from module1 import foo\n",
    "\n",
    "# print 'hello, world!'\n",
    "foo()\n",
    "\n",
    "from module2 import foo\n",
    "# print 'goodbye,world'\n",
    "foo()\n"
   ]
  },
  {
   "cell_type": "markdown",
   "metadata": {},
   "source": [
    "需要说明的是，如果我们导入的模块除了定义函数之外还中有可以执行代码，那么Python解释器在导入这个模块时就会执行这些代码，事实上我们可能并不希望如此，因此如果我们在模块中编写了执行代码，最好是将这些执行代码放入如下所示的条件中，这样的话除非直接运行该模块，`if`条件下的这些代码是不会执行的，因为只有直接执行的模块的名字才是`__main__`。"
   ]
  },
  {
   "cell_type": "code",
   "execution_count": null,
   "metadata": {},
   "outputs": [],
   "source": [
    "# module3.py\n",
    "def foo():\n",
    "    pass\n",
    "\n",
    "def bar():\n",
    "    pass\n",
    "\n",
    "# __name__是Python中一个隐含的变量它代表了模块的名字\n",
    "# 只有被Python解释器直接执行的模块的名字才是__main__\n",
    "if __name__ == '__main__':\n",
    "    print('call foo()')\n",
    "    foo()\n",
    "    print('call bar()')\n",
    "    bar()"
   ]
  },
  {
   "cell_type": "code",
   "execution_count": null,
   "metadata": {},
   "outputs": [],
   "source": [
    "# test.py\n",
    "import module3\n",
    "\n",
    "# 导入module3时 不会执行模块中if条件成立时的代码 因为模块的名字是module3而不是__main__"
   ]
  },
  {
   "cell_type": "markdown",
   "metadata": {},
   "source": [
    "#### Exercise"
   ]
  },
  {
   "cell_type": "code",
   "execution_count": 5,
   "metadata": {},
   "outputs": [
    {
     "name": "stdout",
     "output_type": "stream",
     "text": [
      "The greatest common divisor: 5\n",
      "The least common multiple: 3550\n"
     ]
    }
   ],
   "source": [
    "#练习1：实现计算求最大公约数和最小公倍数的函数。\n",
    "def gcd(x, y):\n",
    "    if x < y:\n",
    "        x, y = y, x\n",
    "    for factor in range(y, 0, -1):\n",
    "        if x % factor == 0 and y % factor == 0:\n",
    "            return factor\n",
    "\n",
    "def lcm(x, y):\n",
    "    return x * y // gcd(x, y)\n",
    "\n",
    "if __name__ == '__main__':\n",
    "    print('The greatest common divisor: %d' %gcd(50, 355))\n",
    "    print('The least common multiple: %d'%lcm(50, 355))"
   ]
  },
  {
   "cell_type": "code",
   "execution_count": 14,
   "metadata": {},
   "outputs": [
    {
     "name": "stdout",
     "output_type": "stream",
     "text": [
      "False\n"
     ]
    }
   ],
   "source": [
    "# 练习2：实现判断一个数是不是回文数的函数。palindrome number\n",
    "\n",
    "def palindrome_num(x):\n",
    "    str_num = str(x)\n",
    "    length = len(str_num)\n",
    "    if str_num == str_num[: : -1]:\n",
    "        return True\n",
    "    else:\n",
    "        return False\n",
    "           \n",
    "            \n",
    "print(palindrome_num(478940))\n"
   ]
  },
  {
   "cell_type": "code",
   "execution_count": 15,
   "metadata": {},
   "outputs": [],
   "source": [
    "# 练习3：实现判断一个数是不是素数的函数。\n",
    "def is_prime(x):\n",
    "    for factor in range(2, x):\n",
    "        if x % factor == 0:\n",
    "            return false\n",
    "    return True if x != 1 else False"
   ]
  },
  {
   "cell_type": "code",
   "execution_count": 18,
   "metadata": {},
   "outputs": [
    {
     "name": "stdout",
     "output_type": "stream",
     "text": [
      "Please enter a positive number: 486\n",
      "486 is not a palindrome prime number.\n"
     ]
    }
   ],
   "source": [
    "# 练习4：写一个程序判断输入的正整数是不是回文素数。\n",
    "if __name__ == '__main__':\n",
    "    x = int(input('Please enter a positive number: '))\n",
    "    if palindrome_num(x) and is_prime(x):\n",
    "        print('%d is a prime palindrome prime number.' %x)\n",
    "    else:\n",
    "        print('%d is not a palindrome prime number.' %x)"
   ]
  },
  {
   "cell_type": "markdown",
   "metadata": {},
   "source": [
    "最后，我们来讨论一下Python中有关**变量作用域**的问题。\n",
    "\n",
    "Python查找一个变量时会按照“局部作用域”、“嵌套作用域”、“全局作用域”和“内置作用域”的顺序进行搜索，前三者我们在上面的代码中已经看到了，所谓的“内置作用域”就是Python内置的那些隐含标识符`min`、`len`等都属于内置作用域）。\n",
    "\n",
    "再看看下面这段代码，我们希望通过函数调用修改全局变量a的值，但实际上下面的代码是做不到的。"
   ]
  },
  {
   "cell_type": "code",
   "execution_count": 19,
   "metadata": {},
   "outputs": [
    {
     "name": "stdout",
     "output_type": "stream",
     "text": [
      "200\n",
      "100\n"
     ]
    }
   ],
   "source": [
    "def foo():\n",
    "    a = 200\n",
    "    print(a)  # 200\n",
    "\n",
    "\n",
    "if __name__ == '__main__':\n",
    "    a = 100\n",
    "    foo()\n",
    "    print(a)  # 100"
   ]
  },
  {
   "cell_type": "markdown",
   "metadata": {},
   "source": [
    "在函数`foo`中写`a = 200`的时候，是重新定义了一个名字为`a`的局部变量，它跟全局作用域的`a`并不是同一个变量，因为局部作用域中有了自己的变量`a`，因此`foo`函数不再搜索全局作用域中的a。如果我们希望在`foo`函数中修改全局作用域中的a，代码如下所示。"
   ]
  },
  {
   "cell_type": "code",
   "execution_count": 20,
   "metadata": {},
   "outputs": [
    {
     "name": "stdout",
     "output_type": "stream",
     "text": [
      "200\n",
      "200\n"
     ]
    }
   ],
   "source": [
    "def foo():\n",
    "    global a\n",
    "    a = 200\n",
    "    print(a)  # 200\n",
    "\n",
    "\n",
    "if __name__ == '__main__':\n",
    "    a = 100\n",
    "    foo()\n",
    "    print(a)  # 200"
   ]
  },
  {
   "cell_type": "markdown",
   "metadata": {},
   "source": [
    "使用`global`关键字来指示`foo`函数中的变量`a`来自于全局作用域，如果全局作用域中没有`a`，那么下面一行的代码就会定义变量`a`并将其置于全局作用域。同理，如果我们希望函数内部的函数能够修改嵌套作用域中的变量，可以使用`nonlocal`关键字来指示变量来自于嵌套作用域"
   ]
  },
  {
   "cell_type": "code",
   "execution_count": null,
   "metadata": {},
   "outputs": [],
   "source": [
    "def outside():\n",
    "    msg = 'outside'\n",
    "    \n",
    "def inside():\n",
    "    msg = \"Inside!\"\n",
    "    print(msg)"
   ]
  }
 ],
 "metadata": {
  "kernel_info": {
   "name": "python3"
  },
  "kernelspec": {
   "display_name": "Python 3",
   "language": "python",
   "name": "python3"
  },
  "language_info": {
   "codemirror_mode": {
    "name": "ipython",
    "version": 3
   },
   "file_extension": ".py",
   "mimetype": "text/x-python",
   "name": "python",
   "nbconvert_exporter": "python",
   "pygments_lexer": "ipython3",
   "version": "3.7.3"
  },
  "nteract": {
   "version": "0.14.3"
  }
 },
 "nbformat": 4,
 "nbformat_minor": 1
}
