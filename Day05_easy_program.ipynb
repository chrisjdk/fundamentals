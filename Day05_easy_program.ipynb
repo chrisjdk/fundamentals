{
 "cells": [
  {
   "cell_type": "markdown",
   "metadata": {},
   "source": [
    "#### [Narcissistic number](https://en.wikipedia.org/wiki/Narcissistic_number)\n",
    "\n",
    "水仙花数是指一个 n 位数，它的每个位上的数字的 n次幂之和等于它本身（例如：1^3 + 5^3+ 3^3 = 153）。"
   ]
  },
  {
   "cell_type": "code",
   "execution_count": null,
   "metadata": {},
   "outputs": [],
   "source": [
    "num = int(input('Please enter the number: '))\n",
    "original_num = num\n",
    "s = str(num)\n",
    "length = len(s)\n",
    "\n",
    "sum_num = 0\n",
    "\n",
    "for digit in s:\n",
    "    sum_num += int(digit)**length\n",
    "    \n",
    "if sum_num == original_num:\n",
    "    print('%d is a narcissistic number' %original_num)\n",
    "else:\n",
    "    print('%d is not a narcissistic number.' %original_num)"
   ]
  },
  {
   "cell_type": "markdown",
   "metadata": {},
   "source": [
    "#### [Perfect Number](https://baike.baidu.com/item/完全数/370913)\n",
    "\n",
    "如果一个数恰好等于它的因子之和，则称该数为“完全数”。"
   ]
  },
  {
   "cell_type": "code",
   "execution_count": null,
   "metadata": {},
   "outputs": [],
   "source": [
    "def perfect_num(num):\n",
    "    sum = 0\n",
    "    for factor in range(1, num):\n",
    "        if num % factor == 0:\n",
    "            sum += factor\n",
    "    if num == sum:\n",
    "        print('%d is a perfect number' %num)\n",
    "    else:\n",
    "        print('%d is not a perfect number.' %num)\n",
    "        \n",
    "perfect_num(256)\n",
    "perfect_num(6)"
   ]
  },
  {
   "cell_type": "markdown",
   "metadata": {},
   "source": [
    "#### [百钱百鸡](https://baike.baidu.com/item/百鸡百钱/5857320)\n",
    "\n",
    "鸡翁一值钱五，鸡母一值钱三，鸡雏三值钱一。百钱买百鸡，问鸡翁、鸡母、鸡雏各几何？"
   ]
  },
  {
   "cell_type": "code",
   "execution_count": null,
   "metadata": {},
   "outputs": [],
   "source": [
    "n = range(100)\n",
    "\n",
    "for male_chicken in n:\n",
    "    for female_chicken in n:\n",
    "        for child_chicken in n:\n",
    "            if male_chicken*5+female_chicken*3+child_chicken/3==100 and male_chicken+female_chicken+child_chicken == 100:\n",
    "                print([male_chicken, female_chicken, child_chicken])\n",
    "                \n",
    "                \n",
    "# Method 2\n",
    "for g in range(20):#公鸡\n",
    "    for x in range(0,100,3): #小鸡\n",
    "        m = 100-g-x#母鸡\n",
    "        if g*5+x/3+m*3==100 and m >= 0:\n",
    "            print(g,m,x)"
   ]
  },
  {
   "cell_type": "markdown",
   "metadata": {},
   "source": [
    "#### [Fibonacci sequence](https://baike.baidu.com/item/斐波那契数列/99145)\n",
    "\n"
   ]
  },
  {
   "cell_type": "code",
   "execution_count": null,
   "metadata": {},
   "outputs": [],
   "source": [
    "# Method 1:\n",
    "def fib(n):\n",
    "    a = 0\n",
    "    b = 1\n",
    "    while a <= n:\n",
    "        print(a, end=' ', flush=True)\n",
    "        a, b = b, a + b\n",
    "        \n",
    "fib(100)"
   ]
  },
  {
   "cell_type": "code",
   "execution_count": null,
   "metadata": {},
   "outputs": [],
   "source": [
    "# Method 2: recursion\n",
    "def fib(i):\n",
    "    num_list = [0, 1]\n",
    "    if i < 2:\n",
    "        return num_list[i]\n",
    "    elif i >= 2:\n",
    "        return(fib(i - 2) + fib(i - 1))\n",
    "\n",
    "for i in range(11):\n",
    "    print(fib(i))"
   ]
  },
  {
   "cell_type": "code",
   "execution_count": null,
   "metadata": {},
   "outputs": [],
   "source": [
    "# Method 3: Class object\n",
    "\n",
    "class FibIterator(object):\n",
    "    \"\"\"斐波那契数列迭代器\"\"\"\n",
    "    def __init__(self, n):\n",
    "        \"\"\"\n",
    "        :param n: int, 指明生成数列的前n个数\n",
    "        \"\"\"\n",
    "        self.n = n\n",
    "        # save the ith number in current\n",
    "        self.current = 0\n",
    "        # save the (i-2)th number in num1, starting from 0\n",
    "        self.num1 = 0\n",
    "        # save the (i-1)th number in num2, starting from 1\n",
    "        self.num2 = 1\n",
    "        \n",
    "    def __next__(self):\n",
    "        \"\"\"被next()函数调用来获取下一个数\"\"\"\n",
    "        if self.current < self.n:\n",
    "            num = self.num1\n",
    "            self.num1, self.num2 = self.num2, self.num1+self.num2\n",
    "            self.current += 1\n",
    "            return num\n",
    "        else:\n",
    "            raise StopIteration\n",
    "            \n",
    "    def __iter__(self):\n",
    "        \"\"\"迭代器的__iter__返回自身即可\"\"\"\n",
    "        return self\n",
    "    \n",
    "if __name__ == '__main__':\n",
    "    fib = FibIterator(10)\n",
    "    for num in fib:\n",
    "        print(num, end=' ')\n",
    "    "
   ]
  },
  {
   "cell_type": "markdown",
   "metadata": {},
   "source": [
    "#### Craps Game"
   ]
  },
  {
   "cell_type": "code",
   "execution_count": null,
   "metadata": {},
   "outputs": [],
   "source": [
    "\"\"\"\n",
    "玩家掷两个骰子，每个骰子点数为1-6，如果第一次点数和为7或11，则玩家胜；\n",
    "如果点数和为2、3或12，则玩家输庄家胜。\n",
    "若和为其他点数，则记录第一次的点数和，玩家继续掷骰子，直至点数和等于第一次掷出的点数和则玩家胜；\n",
    "若掷出的点数和为7则庄家胜。\n",
    "\"\"\"\n",
    "from random import randint\n",
    "\n",
    "def main():\n",
    "    money = 1000\n",
    "    while money > 0:\n",
    "        print('你的总资产为:', money)\n",
    "        needs_go_on = False\n",
    "        while True:\n",
    "            debt = int(input('请下注: '))\n",
    "            if debt > 0 and debt <= money:\n",
    "                break\n",
    "        first = randint(1, 6) + randint(1, 6)\n",
    "        print('玩家摇出了%d点' % first)\n",
    "        if first == 7 or first == 11:\n",
    "            print('玩家胜!')\n",
    "            money += debt\n",
    "        elif first == 2 or first == 3 or first == 12:\n",
    "            print('庄家胜!')\n",
    "            money -= debt\n",
    "        else:\n",
    "            needs_go_on = True\n",
    "\n",
    "        while needs_go_on:\n",
    "            current = randint(1, 6) + randint(1, 6)\n",
    "            print('玩家摇出了%d点' % current)\n",
    "            if current == 7:\n",
    "                print('庄家胜')\n",
    "                money -= debt\n",
    "                needs_go_on = False\n",
    "            elif current == first:\n",
    "                print('玩家胜')\n",
    "                money += debt\n",
    "                needs_go_on = False\n",
    "\n",
    "    print('你破产了, 游戏结束!')\n",
    "\n",
    "\n",
    "if __name__ == '__main__':\n",
    "    main()\n",
    "\n"
   ]
  },
  {
   "cell_type": "code",
   "execution_count": null,
   "metadata": {},
   "outputs": [],
   "source": []
  },
  {
   "cell_type": "code",
   "execution_count": null,
   "metadata": {},
   "outputs": [],
   "source": []
  }
 ],
 "metadata": {
  "kernelspec": {
   "display_name": "Python 3",
   "language": "python",
   "name": "python3"
  },
  "language_info": {
   "codemirror_mode": {
    "name": "ipython",
    "version": 3
   },
   "file_extension": ".py",
   "mimetype": "text/x-python",
   "name": "python",
   "nbconvert_exporter": "python",
   "pygments_lexer": "ipython3",
   "version": "3.7.3"
  }
 },
 "nbformat": 4,
 "nbformat_minor": 2
}
