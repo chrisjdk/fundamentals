{
 "cells": [
  {
   "cell_type": "code",
   "execution_count": 2,
   "metadata": {},
   "outputs": [
    {
     "name": "stdout",
     "output_type": "stream",
     "text": [
      "time: 40.57785701751709\n",
      "[200, 200, 200, 200, 200, 200, 200, 200, 200, 200, 200, 200, 200, 200, 200, 200, 200, 200, 200, 200, 200, 200, 200, 200, 200, 200, 200, 200, 200, 200, 200, 200, 200, 200, 200, 200, 200, 200, 200, 200, 200, 200, 200, 200, 200, 200, 200, 200, 200, 200, 200, 200, 200, 200, 200, 200, 200, 200, 200, 200, 200, 200, 200, 200, 200, 200, 200, 200, 200, 200, 200, 200, 200, 200, 200, 200, 200, 200, 200, 200, 200, 200, 200, 200, 200, 200, 200, 200, 200, 200, 200, 200, 200, 200, 200, 200, 200, 200, 200, 200]\n",
      "time: 4.839155912399292\n",
      "[200, 200, 200, 200, 200, 200, 200, 200, 200, 200, 200, 200, 200, 200, 200, 200, 200, 200, 200, 200, 200, 200, 200, 200, 200, 200, 200, 200, 200, 200, 200, 200, 200, 200, 200, 200, 200, 200, 200, 200, 200, 200, 200, 200, 200, 200, 200, 200, 200, 200, 200, 200, 200, 200, 200, 200, 200, 200, 200, 200, 200, 200, 200, 200, 200, 200, 200, 200, 200, 200, 200, 200, 200, 200, 200, 200, 200, 200, 200, 200, 200, 200, 200, 200, 200, 200, 200, 200, 200, 200, 200, 200, 200, 200, 200, 200, 200, 200, 200, 200]\n"
     ]
    }
   ],
   "source": [
    "import time\n",
    "from multiprocessing import Pool\n",
    "\n",
    "import requests\n",
    "\n",
    "def decorator_timer(old_function):\n",
    "    def new_function(*arg, **dict_arg):\n",
    "        t1 = time.time()\n",
    "        result = old_function(*arg, **dict_arg)\n",
    "        t2 = time.time()\n",
    "        print(\"time:\", t2 - t1)\n",
    "        \n",
    "        return result\n",
    "        \n",
    "    return new_function\n",
    "    \n",
    "    \n",
    "def visit_once(i, address=\"http://www.cnblogs.com\"):\n",
    "    r = requests.get(address)\n",
    "    return r.status_code\n",
    "    \n",
    "\n",
    "@decorator_timer\n",
    "def single_thread(f, counts):\n",
    "    result = map(f, range(counts))\n",
    "    return list(result)\n",
    "    \n",
    "\n",
    "@decorator_timer\n",
    "def multiple_thread(f, counts, process_number=10):\n",
    "    p = Pool(process_number)\n",
    "    return p.map(f, range(counts))\n",
    "\n",
    "if __name__ == \"__main__\":\n",
    "    TOTAL =     100\n",
    "    print(single_thread(visit_once, TOTAL))\n",
    "    print(multiple_thread(visit_once, TOTAL))"
   ]
  }
 ],
 "metadata": {
  "kernelspec": {
   "display_name": "Python 3",
   "language": "python",
   "name": "python3"
  },
  "language_info": {
   "codemirror_mode": {
    "name": "ipython",
    "version": 3
   },
   "file_extension": ".py",
   "mimetype": "text/x-python",
   "name": "python",
   "nbconvert_exporter": "python",
   "pygments_lexer": "ipython3",
   "version": "3.7.3"
  }
 },
 "nbformat": 4,
 "nbformat_minor": 2
}
