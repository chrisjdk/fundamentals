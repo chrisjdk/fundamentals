{
  "cells": [
    {
      "cell_type": "markdown",
      "source": [
        "### 面向对象技术简介\n",
        "\n",
        "**面向对象编程**: 把一组数据结构和处理它们的方法组成对象（object），把相同行为的对象归纳为类（class）,通过类的封装（encapsulation）隐藏内部细节，通过继承(inheritance)实现类的特化(specialization)和泛化(generalization),通过多态（polymorphism）实现基于对象类型的动态分配\n",
        "\n",
        "- **类(Class)**: 用来描述具有**相同的属性和方法**的对象的集合。它定义了该集合中每个对象所共有的属性和方法。对象是类的实例。\n",
        "\n",
        "- **方法**：类中定义的函数。\n",
        "\n",
        "- **类变量**：类变量在整个实例化的对象中是公用的。类变量定义在类中且在函数体之外。类变量通常不作为实例变量使用。\n",
        "\n",
        "- **方法重写**：如果从父类继承的方法不能满足子类的需求，可以对其进行改写，这个过程叫方法的覆盖（override），也称为方法的重写。\n",
        "\n",
        "- **局部变量**：定义在方法中的变量，只作用于当前实例的类。\n",
        "\n",
        "- **实例变量**：在类的声明中，属性是用变量来表示的。这种变量就称为实例变量，是在类声明的内部但是在类的其他成员方法之外声明的。\n",
        "\n",
        "- **继承**：即一个派生类（derived class）继承基类（base class）的字段和方法。继承也允许把一个派生类的对象作为一个基类对象对待。例如，有这样一个设计：一个Dog类型的对象派生自Animal类，这是模拟\"是一个（is-a）\"关系（例图，Dog是一个Animal）。\n",
        "\n",
        "- **实例化**：创建一个类的实例，类的具体对象。\n",
        "\n",
        "- **对象**：通过类定义的数据结构实例。对象包括两个数据成员（类变量和实例变量）和方法。"
      ],
      "metadata": {}
    },
    {
      "cell_type": "markdown",
      "source": [
        "#### 类定义\n",
        "\n",
        "语法格式如下"
      ],
      "metadata": {}
    },
    {
      "cell_type": "code",
      "source": [
        "# create a new class\n",
        "class ClassName:\n",
        "  <statement-1>\n",
        "  .\n",
        "  .\n",
        "  .\n",
        "  <statement-N>\n",
        "  \n",
        "  #类实例化后，可以使用其属性，实际上，创建一个类之后，可以通过类名访问其属性。"
      ],
      "outputs": [],
      "execution_count": null,
      "metadata": {
        "collapsed": false,
        "outputHidden": false,
        "inputHidden": false
      }
    },
    {
      "cell_type": "markdown",
      "source": [
        "#### 类对象\n",
        "\n",
        "类对象支持两种操作：属性引用和实例化。\n",
        "\n",
        "类对象创建后，类命名空间中所有的命名都是有效属性名。所以如果类定义是这样:"
      ],
      "metadata": {}
    },
    {
      "cell_type": "code",
      "source": [
        "class MyClass:\n",
        "  \"\"\" \n",
        "  a simple class example\n",
        "  \"\"\"\n",
        "  i = 12345\n",
        "  def f(self):\n",
        "    return 'hello world'\n",
        "  \n",
        "#实例化类\n",
        "x = MyClass()\n",
        "# 以上创建了一个新的类实例并将该对象赋给局部变量 x，x 为空的对象。\n",
        "\n",
        "#访问类的属性和方法\n",
        "print('MyClass 类的属性i为：', x.i)\n",
        "print('MyClass 类的方法f输出为：', x.f())"
      ],
      "outputs": [
        {
          "output_type": "stream",
          "name": "stdout",
          "text": [
            "MyClass 类的属性i为： 12345\n",
            "MyClass 类的方法f输出为： hello world\n"
          ]
        }
      ],
      "execution_count": 1,
      "metadata": {
        "collapsed": false,
        "outputHidden": false,
        "inputHidden": false
      }
    },
    {
      "cell_type": "markdown",
      "source": [
        "##### `__init__()` Method\n",
        "\n",
        "`__init__()`是一个特殊方法（构造方法），该方法在类实例化时会自动调用， 用于在创建对象时进行初始化操作.\n",
        "\n",
        "类定义了 `__init__()` 方法，类的实例化操作会自动调用 `__init__()` 方法。如下实例化类 `MyClass`，对应的 `__init__()` 方法就会被调用:\n",
        "\n",
        "```python\n",
        "x = MyClass()\n",
        "```\n",
        "\n",
        "` __init__()` 方法可以有参数，参数通过 `__init__()` 传递到类的实例化操作上。例如:\n",
        "\n",
        "\n",
        "```python\n",
        "class Complex:\n",
        "  def __init__(self, realpart, imagpart):\n",
        "    self.r = realpart\n",
        "    self.i = imagpart\n",
        "\n",
        "x = Complex(3.0, -4.5)\n",
        "print(x.r, x.i) # the output: 3.0 -4.5\n",
        "```\n",
        "\n",
        "##### `self`代表类的实例，而非类\n",
        "\n",
        "类的方法与普通的函数只有一个特别的区别——它们必须有一个额外的**第一个参数名称**, 按照惯例它的名称是 `self`。"
      ],
      "metadata": {}
    },
    {
      "cell_type": "code",
      "source": [
        "class Test:\n",
        "  def prt(self):\n",
        "    print(self)\n",
        "    print(self.__class__)\n",
        "    \n",
        "t = Test()\n",
        "t.prt()"
      ],
      "outputs": [
        {
          "output_type": "stream",
          "name": "stdout",
          "text": [
            "<__main__.Test object at 0x112b916a0>\n",
            "<class '__main__.Test'>\n"
          ]
        }
      ],
      "execution_count": 2,
      "metadata": {
        "collapsed": false,
        "outputHidden": false,
        "inputHidden": false
      }
    },
    {
      "cell_type": "markdown",
      "source": [
        "从执行结果可以很明显的看出，`self` 代表的是类的实例，代表当前对象的地址，而 `self.class` 则指向类。\n",
        "`self` 不是 python 关键字，我们把他换成 `runoob` 也是可以正常执行的:"
      ],
      "metadata": {}
    },
    {
      "cell_type": "code",
      "source": [
        "class Test:\n",
        "  def prt(runoob):\n",
        "    print(runoob)\n",
        "    print(runoob.__class__)\n",
        "    \n",
        "t = Test()\n",
        "t.prt()"
      ],
      "outputs": [
        {
          "output_type": "stream",
          "name": "stdout",
          "text": [
            "<__main__.Test object at 0x112c0ceb8>\n",
            "<class '__main__.Test'>\n"
          ]
        }
      ],
      "execution_count": 6,
      "metadata": {
        "collapsed": false,
        "outputHidden": false,
        "inputHidden": false
      }
    },
    {
      "cell_type": "markdown",
      "source": [
        "#### 类的方法\n",
        "在类的内部，使用 `def` 关键字来定义一个方法，与一般函数定义不同，类方法必须包含参数 `self`, 且为第一个参数，`self` 代表的是类的实例。"
      ],
      "metadata": {}
    },
    {
      "cell_type": "code",
      "source": [
        "# an example to illustrate a class\n",
        "class People:\n",
        "  # 定义基本属性\n",
        "  name = ''\n",
        "  age = 0\n",
        "  # 定义私有属性，私有属性在类外部无法直接进行访问\n",
        "  __weight = 0\n",
        "  # 定义构造方法\n",
        "  def __init__(self, n, a, w):\n",
        "    self.name = n\n",
        "    self.age = a\n",
        "    self.__weight = w\n",
        "  def speak(self):\n",
        "    print(\"%s 说: 我 %d 岁。\" %(self.name,self.age))\n",
        "    \n",
        "# 实例化类\n",
        "p = People('runoob',10,30)\n",
        "p.speak()"
      ],
      "outputs": [
        {
          "output_type": "stream",
          "name": "stdout",
          "text": [
            "runoob 说: 我 10 岁。\n"
          ]
        }
      ],
      "execution_count": 8,
      "metadata": {
        "collapsed": false,
        "outputHidden": false,
        "inputHidden": false
      }
    },
    {
      "cell_type": "markdown",
      "source": [
        "#### 继承\n",
        "\n",
        "Python 同样支持类的继承，如果一种语言不支持继承，类就没有什么意义。派生类的定义如下所示:\n",
        "\n",
        "```python\n",
        "class DerivedClassName(BaseClassName1):\n",
        "  <statement-1>\n",
        "  .\n",
        "  .\n",
        "  .\n",
        "  <statement-N>\n",
        "```\n",
        "\n",
        "需要注意圆括号中基类的顺序，若是基类中有相同的方法名，而在子类使用时未指定，python从左至右搜索 即方法在子类中未找到时，从左到右查找基类中是否包含方法。\n",
        "\n",
        "`BaseClassName`（示例中的基类名）必须与派生类定义在一个作用域内。除了类，还可以用表达式，基类定义在另一个模块中时这一点非常有用:\n",
        "\n",
        "```python\n",
        "class DerivedClassName(modname.BaseClassName):\n",
        "```"
      ],
      "metadata": {}
    },
    {
      "cell_type": "code",
      "source": [
        "# 类定义\n",
        "class People:\n",
        "  #定义基本属性\n",
        "  name = ''\n",
        "  age = 0\n",
        "  #定义私有属性，私有属性在类外部无法访问\n",
        "  __weight = 0\n",
        "  \n",
        "  #定义构造方法\n",
        "  def __init__(self, n, a, w):\n",
        "    self.name = n\n",
        "    self.age = a\n",
        "    self.__weight = w\n",
        "    \n",
        "  def speak(self):\n",
        "    print(\"%s 说: 我 %d 岁。\" %(self.name,self.age))\n",
        "    \n",
        "#单继承示例\n",
        "class Student(People):\n",
        "  grade = ''\n",
        "  def __init__(self, n, a, w, g):\n",
        "    #调用父类的构造函数\n",
        "    People.__init__(self, n, a, w)\n",
        "    self.grade = g\n",
        "  \n",
        "  # 覆写父类的方法\n",
        "  def speak(self):\n",
        "    print(\"%s 说: 我 %d 岁了，我在读 %d 年级\"%(self.name,self.age,self.grade))\n",
        "    \n",
        "# 另一个类，多重继承前的准备\n",
        "class Speaker():\n",
        "  topic = ''\n",
        "  name = ''\n",
        "  def __init__(self, n, t):\n",
        "    self.name = n\n",
        "    self.topic = t\n",
        "  def speak(self):\n",
        "    print(\"我叫 %s，我是一个演说家，我演讲的主题是 %s\"%(self.name,self.topic))\n",
        "    \n",
        "\n",
        "#多重继承\n",
        "class Sample(Speaker, Student):\n",
        "  a = ''\n",
        "  def __init__(self, n, a, w, g, t):\n",
        "    Student.__init__(self, n, a, w, g)\n",
        "    Speaker.__init__(self, n, t)\n",
        "    \n",
        "test = Sample('Tim', 25, 80, 4,'Python')\n",
        "test.speak() #方法名同，默认调用的是在括号中排前的父类的方法"
      ],
      "outputs": [
        {
          "output_type": "stream",
          "name": "stdout",
          "text": [
            "我叫 Tim，我是一个演说家，我演讲的主题是 Python\n"
          ]
        }
      ],
      "execution_count": 11,
      "metadata": {
        "collapsed": false,
        "outputHidden": false,
        "inputHidden": false
      }
    },
    {
      "cell_type": "markdown",
      "source": [
        "#### 方法重写\n",
        "如果你的父类方法的功能不能满足你的需求，你可以在子类重写你父类的方法，实例如下："
      ],
      "metadata": {}
    },
    {
      "cell_type": "code",
      "source": [
        "class Parent:\n",
        "  def myMethod(self):\n",
        "    print('调用父类方法')\n",
        "\n",
        "class Child(Parent):\n",
        "  def myMethod(self):\n",
        "    print('调用子类方法')\n",
        "          \n",
        "c = Child()    # 子类实例\n",
        "c.myMethod()    # 子类调用重写方法\n",
        "super(Child, c).myMethod()  #用子类对象调用父类已被覆盖的方法\n",
        "\n",
        "# super() 函数是用于调用父类(超类)的一个方法。"
      ],
      "outputs": [
        {
          "output_type": "stream",
          "name": "stdout",
          "text": [
            "调用子类方法\n",
            "调用父类方法\n"
          ]
        }
      ],
      "execution_count": 13,
      "metadata": {
        "collapsed": false,
        "outputHidden": false,
        "inputHidden": false
      }
    },
    {
      "cell_type": "code",
      "source": [
        "# an example of super()\n",
        "# Python3.x 和 Python2.x 的一个区别是: Python 3 可以使用直接使用 super().xxx 代替 super(Class, self).xxx :\n",
        "\n",
        "class A:\n",
        "    def add(self, x):\n",
        "         y = x+1\n",
        "         print(y)\n",
        "class B(A):\n",
        "    def add(self, x):\n",
        "        super().add(x)\n",
        "b = B()\n",
        "b.add(2)  # 3"
      ],
      "outputs": [
        {
          "output_type": "stream",
          "name": "stdout",
          "text": [
            "3\n"
          ]
        }
      ],
      "execution_count": 14,
      "metadata": {
        "collapsed": false,
        "outputHidden": false,
        "inputHidden": false
      }
    },
    {
      "cell_type": "markdown",
      "source": [
        "### 类属性与方法\n",
        "\n",
        "#### 类的私有属性\n",
        "\n",
        "`__private_attrs`：两个下划线开头，声明该属性为私有，不能在类的外部被使用或直接访问。在类内部的方法中使用时 `self.__private_attrs`。\n",
        "类的方法\n",
        "\n",
        "在类的内部，使用 `def` 关键字来定义一个方法，与一般函数定义不同，类方法必须包含参数 `self`，且为第一个参数，`self` 代表的是类的实例。\n",
        "\n",
        "`self` 的名字并不是规定死的，也可以使用 `this`，但是最好还是按照约定是用 `self`。\n",
        "\n",
        "\n",
        "#### 类的私有方法\n",
        "\n",
        "`__private_method`：两个下划线开头，声明该方法为私有方法，只能在类的内部调用 ，不能在类的外部调用。`self.__private_methods`。\n",
        "\n",
        "\n",
        "#### 实例\n",
        "\n",
        "类的私有属性实例如下："
      ],
      "metadata": {}
    },
    {
      "cell_type": "code",
      "source": [
        "class JustCounter:\n",
        "  __secretCount = 0  # private para.\n",
        "  publicCount = 0    # public para.\n",
        "  \n",
        "  def count(self):\n",
        "    self.__secretCount += 1\n",
        "    self.publicCount += 1\n",
        "    print(self.__secretCount)\n",
        "    \n",
        "counter = JustCounter()\n",
        "counter.count()\n",
        "counter.count()\n",
        "print (counter.publicCount)\n",
        "print (counter.__secretCount)  # 报错，实例不能访问私有变量"
      ],
      "outputs": [
        {
          "output_type": "stream",
          "name": "stdout",
          "text": [
            "1\n",
            "2\n",
            "2\n"
          ]
        },
        {
          "output_type": "error",
          "ename": "AttributeError",
          "evalue": "'JustCounter' object has no attribute '__secretCount'",
          "traceback": [
            "\u001b[0;31m---------------------------------------------------------------------------\u001b[0m",
            "\u001b[0;31mAttributeError\u001b[0m                            Traceback (most recent call last)",
            "\u001b[0;32m<ipython-input-15-c3b64341e843>\u001b[0m in \u001b[0;36m<module>\u001b[0;34m\u001b[0m\n\u001b[1;32m     12\u001b[0m \u001b[0mcounter\u001b[0m\u001b[0;34m.\u001b[0m\u001b[0mcount\u001b[0m\u001b[0;34m(\u001b[0m\u001b[0;34m)\u001b[0m\u001b[0;34m\u001b[0m\u001b[0;34m\u001b[0m\u001b[0m\n\u001b[1;32m     13\u001b[0m \u001b[0mprint\u001b[0m \u001b[0;34m(\u001b[0m\u001b[0mcounter\u001b[0m\u001b[0;34m.\u001b[0m\u001b[0mpublicCount\u001b[0m\u001b[0;34m)\u001b[0m\u001b[0;34m\u001b[0m\u001b[0;34m\u001b[0m\u001b[0m\n\u001b[0;32m---> 14\u001b[0;31m \u001b[0mprint\u001b[0m \u001b[0;34m(\u001b[0m\u001b[0mcounter\u001b[0m\u001b[0;34m.\u001b[0m\u001b[0m__secretCount\u001b[0m\u001b[0;34m)\u001b[0m  \u001b[0;31m# 报错，实例不能访问私有变量\u001b[0m\u001b[0;34m\u001b[0m\u001b[0;34m\u001b[0m\u001b[0m\n\u001b[0m",
            "\u001b[0;31mAttributeError\u001b[0m: 'JustCounter' object has no attribute '__secretCount'"
          ]
        }
      ],
      "execution_count": 15,
      "metadata": {
        "collapsed": false,
        "outputHidden": false,
        "inputHidden": false
      }
    },
    {
      "cell_type": "markdown",
      "source": [
        "类的私有方法实例如下："
      ],
      "metadata": {}
    },
    {
      "cell_type": "code",
      "source": [
        "class Site:\n",
        "  def __init__(self, name, url):\n",
        "    self.name = name    # public\n",
        "    self.__url = url    # private\n",
        "    \n",
        "  def who(self):\n",
        "    print('name: ', self.name)\n",
        "    print('url: ', self.__url)\n",
        "    \n",
        "  def __foo(self):  # 私有方法\n",
        "    print('这是私有方法')\n",
        "    \n",
        "  def foo(self):    # 公共方法\n",
        "    print('这是公共方法')\n",
        "    self.__foo()\n",
        "    \n",
        "x = Site('菜鸟教程', 'www.runoob.com')\n",
        "x.who()        # 正常输出\n",
        "x.foo()        # 正常输出\n",
        "x.__foo()      # 报错"
      ],
      "outputs": [
        {
          "output_type": "stream",
          "name": "stdout",
          "text": [
            "name:  菜鸟教程\n",
            "url:  www.runoob.com\n",
            "这是公共方法\n",
            "这是私有方法\n"
          ]
        },
        {
          "output_type": "error",
          "ename": "AttributeError",
          "evalue": "'Site' object has no attribute '__foo'",
          "traceback": [
            "\u001b[0;31m---------------------------------------------------------------------------\u001b[0m",
            "\u001b[0;31mAttributeError\u001b[0m                            Traceback (most recent call last)",
            "\u001b[0;32m<ipython-input-16-0b9fc18b3226>\u001b[0m in \u001b[0;36m<module>\u001b[0;34m\u001b[0m\n\u001b[1;32m     18\u001b[0m \u001b[0mx\u001b[0m\u001b[0;34m.\u001b[0m\u001b[0mwho\u001b[0m\u001b[0;34m(\u001b[0m\u001b[0;34m)\u001b[0m        \u001b[0;31m# 正常输出\u001b[0m\u001b[0;34m\u001b[0m\u001b[0;34m\u001b[0m\u001b[0m\n\u001b[1;32m     19\u001b[0m \u001b[0mx\u001b[0m\u001b[0;34m.\u001b[0m\u001b[0mfoo\u001b[0m\u001b[0;34m(\u001b[0m\u001b[0;34m)\u001b[0m        \u001b[0;31m# 正常输出\u001b[0m\u001b[0;34m\u001b[0m\u001b[0;34m\u001b[0m\u001b[0m\n\u001b[0;32m---> 20\u001b[0;31m \u001b[0mx\u001b[0m\u001b[0;34m.\u001b[0m\u001b[0m__foo\u001b[0m\u001b[0;34m(\u001b[0m\u001b[0;34m)\u001b[0m      \u001b[0;31m# 报错\u001b[0m\u001b[0;34m\u001b[0m\u001b[0;34m\u001b[0m\u001b[0m\n\u001b[0m",
            "\u001b[0;31mAttributeError\u001b[0m: 'Site' object has no attribute '__foo'"
          ]
        }
      ],
      "execution_count": 16,
      "metadata": {
        "collapsed": false,
        "outputHidden": false,
        "inputHidden": false
      }
    },
    {
      "cell_type": "markdown",
      "source": [
        "#### 类的专有方法：\n",
        "\n",
        "`__init__` : 构造函数，在生成对象时调用\n",
        "\n",
        "`__del__` : 析构函数，释放对象时使用\n",
        "\n",
        "`__repr__` : 打印，转换\n",
        "\n",
        "`__setitem__` : 按照索引赋值\n",
        "\n",
        "`__getitem__`: 按照索引获取值\n",
        "\n",
        "`__len__`: 获得长度\n",
        "\n",
        "`__cmp__`: 比较运算\n",
        "\n",
        "`__call__`: 函数调用\n",
        "\n",
        "`__add__`: 加运算\n",
        "\n",
        "`__sub__`: 减运算\n",
        "\n",
        "`__mul__`: 乘运算\n",
        "\n",
        "`__truediv__`: 除运算\n",
        "\n",
        "`__mod__`: 求余运算\n",
        "\n",
        "`__pow__`: 乘方\n",
        "\n",
        "#### 运算符重载\n",
        "\n",
        "Python同样支持运算符重载，我们可以对类的专有方法进行重载，实例如下："
      ],
      "metadata": {}
    },
    {
      "cell_type": "code",
      "source": [
        "class Vector:\n",
        "  def __init__(self, a, b):\n",
        "    self.a = a\n",
        "    self.b = b\n",
        "    \n",
        "  def __str__(self):\n",
        "    return 'Vector (%d, %d)' % (self.a, self.b)\n",
        "  \n",
        "  def __add__(self, other):\n",
        "    return Vector(self.a + other.a, self.b + other.b)\n",
        "  \n",
        "v1 = Vector(2,10)\n",
        "v2 = Vector(5,-2)\n",
        "print (v1 + v2)"
      ],
      "outputs": [
        {
          "output_type": "stream",
          "name": "stdout",
          "text": [
            "Vector (7, 8)\n"
          ]
        }
      ],
      "execution_count": 18,
      "metadata": {
        "collapsed": false,
        "outputHidden": false,
        "inputHidden": false
      }
    },
    {
      "cell_type": "markdown",
      "source": [
        "#### Exercises\n",
        "\n",
        "##### 练习1：定义一个类描述数字时钟"
      ],
      "metadata": {}
    },
    {
      "cell_type": "code",
      "source": [
        "from time import sleep\n",
        "\n",
        "class Clock(object):\n",
        "  \"\"\"\n",
        "  Mathematical clock\n",
        "  \"\"\"\n",
        "  def __init__(self, h=0, m=0, s=0):\n",
        "    \"\"\"\n",
        "    :param h: hour\n",
        "    :param m: min.\n",
        "    :param s: sec.\n",
        "    \"\"\"\n",
        "    self._h = h\n",
        "    self._m = m\n",
        "    self._s = s\n",
        "    \n",
        "  def run(self):\n",
        "    \"\"\"\n",
        "    a working clock\n",
        "    \"\"\"\n",
        "    self._s += 1\n",
        "    if self._s == 60:\n",
        "      self._s = 0\n",
        "      self._m += 1\n",
        "      if self._m == 60:\n",
        "        self._m = 0\n",
        "        self._h += 1\n",
        "        if self._h == 24:\n",
        "          self._h = 0\n",
        "          \n",
        "  def __str__(self):\n",
        "    \"\"\"\n",
        "    show the time\n",
        "    \"\"\"\n",
        "    return '%02d:%02d:%02d' % (self._h, self._m, self._s)\n",
        "  \n",
        "def main():\n",
        "  clock = Clock(23, 59, 58)\n",
        "  while True:\n",
        "    print(clock)\n",
        "    sleep(1)\n",
        "    clock.run()\n",
        "    \n",
        "if __name__  == '__main__':\n",
        "  main()\n",
        "\n"
      ],
      "outputs": [
        {
          "output_type": "stream",
          "name": "stdout",
          "text": [
            "23:59:58\n",
            "23:59:59\n",
            "00:00:00\n",
            "00:00:01\n",
            "00:00:02\n",
            "00:00:03\n",
            "00:00:04\n",
            "00:00:05\n",
            "00:00:06\n",
            "00:00:07\n"
          ]
        }
      ],
      "execution_count": 20,
      "metadata": {
        "collapsed": false,
        "outputHidden": false,
        "inputHidden": false
      }
    },
    {
      "cell_type": "markdown",
      "source": [
        "##### 练习2：定义一个类描述平面上的点并提供移动点和计算到另一个点距离的方法。"
      ],
      "metadata": {}
    },
    {
      "cell_type": "code",
      "source": [
        "from math import sqrt\n",
        "\n",
        "class Point(object):\n",
        "  \n",
        "  def __init__(self, x=0, y=0):\n",
        "    \"\"\"\n",
        "    x-y coordinates of points\n",
        "    \n",
        "    :param x: x-coordinate\n",
        "    :param y: y-coordinate\n",
        "    \"\"\"\n",
        "    self.x = x\n",
        "    self.y = y\n",
        "    \n",
        "  def move_to(self, x, y):\n",
        "    \"\"\" move to a new place\n",
        "    \"\"\"\n",
        "    self.x = x\n",
        "    self.y = y\n",
        "    \n",
        "  def move_by(self, dx, dy):\n",
        "    \"\"\" a specific distance to move\n",
        "    \"\"\"\n",
        "    self.x += dx\n",
        "    self.y += dy\n",
        "    \n",
        "  def distance_to(self, other):\n",
        "    dx = self.x -other.x\n",
        "    dy = self.y -other.y\n",
        "    return sqrt(dx**2 + dy**2)\n",
        "  \n",
        "  def __str__(self):\n",
        "    return '(%s, %s)' % (str(self.x), str(self.y))\n",
        "  \n",
        "def main():\n",
        "  p1 = Point(3, 5)\n",
        "  p2 = Point()\n",
        "  print(p1)\n",
        "  print(p2)\n",
        "  p2.move_by(-1, 2)\n",
        "  print(p2)\n",
        "  print(p1.distance_to(p2))\n",
        "  \n",
        "if __name__  == '__main__':\n",
        "  main()\n",
        "\n"
      ],
      "outputs": [
        {
          "output_type": "stream",
          "name": "stdout",
          "text": [
            "(3, 5)\n",
            "(0, 0)\n",
            "(-1, 2)\n",
            "5.0\n"
          ]
        }
      ],
      "execution_count": 1,
      "metadata": {
        "collapsed": false,
        "outputHidden": false,
        "inputHidden": false
      }
    }
  ],
  "metadata": {
    "kernel_info": {
      "name": "python3"
    },
    "language_info": {
      "name": "python",
      "version": "3.7.3",
      "mimetype": "text/x-python",
      "codemirror_mode": {
        "name": "ipython",
        "version": 3
      },
      "pygments_lexer": "ipython3",
      "nbconvert_exporter": "python",
      "file_extension": ".py"
    },
    "kernelspec": {
      "name": "python3",
      "language": "python",
      "display_name": "Python 3"
    },
    "nteract": {
      "version": "0.14.3"
    }
  },
  "nbformat": 4,
  "nbformat_minor": 0
}