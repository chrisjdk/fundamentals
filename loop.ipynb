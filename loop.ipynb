{
 "cells": [
  {
   "cell_type": "markdown",
   "metadata": {},
   "source": [
    "[loop structure](https://shrtm.nu/5bq1)"
   ]
  },
  {
   "cell_type": "code",
   "execution_count": 1,
   "metadata": {},
   "outputs": [
    {
     "name": "stdout",
     "output_type": "stream",
     "text": [
      "Please enter a positive number: 8\n",
      "8 is not a prime number.\n"
     ]
    }
   ],
   "source": [
    "\"\"\"\n",
    "enter a positive number to check if it's a prime number\n",
    "\"\"\"\n",
    "\n",
    "from math import sqrt\n",
    "\n",
    "num = int(input('Please enter a positive number: '))\n",
    "end = int(sqrt(num))\n",
    "is_prime = True\n",
    "\n",
    "for x in range(2, end + 1):\n",
    "    if num % x == 0:\n",
    "        is_prime = False\n",
    "        break\n",
    "if is_prime and num != 1:\n",
    "    print('%d is a prime number.' %num)\n",
    "else:\n",
    "    print('%d is not a prime number.' %num)"
   ]
  },
  {
   "cell_type": "code",
   "execution_count": 2,
   "metadata": {},
   "outputs": [
    {
     "name": "stdout",
     "output_type": "stream",
     "text": [
      "x= 89\n",
      "y= 7\n",
      "7和89的最大公约数是1\n",
      "7和89的最小公倍数是623\n"
     ]
    }
   ],
   "source": [
    "\"\"\"\n",
    "输入两个正整数，计算最大公约数和最小公倍数。\n",
    "\"\"\"\n",
    "x = int(input('x= '))\n",
    "y = int(input('y= '))\n",
    "\n",
    "if x > y:\n",
    "    x, y = y, x\n",
    "for factor in range(x, 0, -1):\n",
    "    if x % factor == 0 and y % factor == 0:\n",
    "        print('%d和%d的最大公约数是%d' %(x, y, factor))\n",
    "        print('%d和%d的最小公倍数是%d' %(x, y, x*y//factor))\n",
    "        break"
   ]
  },
  {
   "cell_type": "code",
   "execution_count": 3,
   "metadata": {},
   "outputs": [
    {
     "name": "stdout",
     "output_type": "stream",
     "text": [
      "The number of rows: 5\n",
      "*\n",
      "**\n",
      "***\n",
      "****\n",
      "*****\n",
      "    *\n",
      "   **\n",
      "  ***\n",
      " ****\n",
      "*****\n",
      "    *\n",
      "   ***\n",
      "  *****\n",
      " *******\n",
      "*********\n"
     ]
    }
   ],
   "source": [
    "\"\"\"\n",
    "打印各种三角形图案\n",
    "\n",
    "*\n",
    "**\n",
    "***\n",
    "****\n",
    "*****\n",
    "\n",
    "    *\n",
    "   **\n",
    "  ***\n",
    " ****\n",
    "*****\n",
    "\n",
    "    *\n",
    "   ***\n",
    "  *****\n",
    " *******\n",
    "*********\n",
    "\n",
    "\"\"\"\n",
    "\n",
    "row = int(input('The number of rows: '))\n",
    "\n",
    "for i in range(row):\n",
    "    for j in range(i+1):\n",
    "        print('*', end='')\n",
    "    print()\n",
    "    \n",
    "    \n",
    "for i in range(row):\n",
    "    for j in range(row):\n",
    "        if j < row -i - 1:\n",
    "            print(' ', end='')\n",
    "        else:\n",
    "            print('*', end='')\n",
    "    print()\n",
    "    \n",
    "\n",
    "for i in range(row):\n",
    "    for j in range(row - i -1):        \n",
    "        print(' ', end='')\n",
    "    for j in range(2 * i + 1):\n",
    "        print('*', end='')\n",
    "            \n",
    "    print()\n",
    "            "
   ]
  },
  {
   "cell_type": "code",
   "execution_count": null,
   "metadata": {},
   "outputs": [],
   "source": []
  }
 ],
 "metadata": {
  "kernelspec": {
   "display_name": "Python 3",
   "language": "python",
   "name": "python3"
  },
  "language_info": {
   "codemirror_mode": {
    "name": "ipython",
    "version": 3
   },
   "file_extension": ".py",
   "mimetype": "text/x-python",
   "name": "python",
   "nbconvert_exporter": "python",
   "pygments_lexer": "ipython3",
   "version": "3.7.3"
  }
 },
 "nbformat": 4,
 "nbformat_minor": 2
}
